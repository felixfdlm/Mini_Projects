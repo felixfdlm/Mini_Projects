{
 "cells": [
  {
   "cell_type": "code",
   "execution_count": 1,
   "id": "162e78bd",
   "metadata": {},
   "outputs": [],
   "source": [
    "import librosa\n",
    "import tensorflow as tf\n",
    "import os\n",
    "from keras import Sequential\n",
    "from keras.layers import Dense, LSTM, Input, Dropout, concatenate, Conv1D\n",
    "from keras import layers\n",
    "import keras\n",
    "import numpy as np\n",
    "import matplotlib.pyplot as plt\n",
    "import time\n",
    "import soundfile\n",
    "from IPython.display import Audio as IAudio\n",
    "\n",
    "timestep = 2**12\n",
    "sr = 2**14"
   ]
  },
  {
   "cell_type": "code",
   "execution_count": 2,
   "id": "8f9a76d6",
   "metadata": {},
   "outputs": [],
   "source": [
    "def load_song(path,sr=2**14,timestep=timestep):\n",
    "    track,_ = librosa.load(path,sr=sr)\n",
    "    num_slices = track.shape[0]//timestep\n",
    "    track = track[:num_slices*timestep]\n",
    "    track = track.reshape((-1,timestep))\n",
    "    return track"
   ]
  },
  {
   "cell_type": "code",
   "execution_count": 3,
   "id": "06dc96d6",
   "metadata": {},
   "outputs": [],
   "source": [
    "cross_entropy_artist = tf.keras.losses.BinaryCrossentropy(from_logits=True)\n",
    "cross_entropy_critic = tf.keras.losses.BinaryCrossentropy(from_logits=False)\n",
    "\n",
    "def critic_loss(real_output, fake_output):\n",
    "    real_loss = cross_entropy_critic(tf.ones_like(real_output), real_output)\n",
    "    fake_loss = cross_entropy_critic(tf.zeros_like(fake_output), fake_output)\n",
    "    total_loss = real_loss + fake_loss\n",
    "    return total_loss\n",
    "\n",
    "def artist_loss(fake_output):\n",
    "    return cross_entropy_artist(tf.ones_like(fake_output),fake_output)"
   ]
  },
  {
   "cell_type": "code",
   "execution_count": 4,
   "id": "aed13d9a",
   "metadata": {},
   "outputs": [],
   "source": [
    "artist_optimizer = tf.keras.optimizers.Adam(1e-4)\n",
    "critic_optimizer = tf.keras.optimizers.Adam(1e-4)"
   ]
  },
  {
   "cell_type": "code",
   "execution_count": 5,
   "id": "d9085daf",
   "metadata": {},
   "outputs": [],
   "source": [
    "def song_iteration(num_seconds = 8,sr=2**14,timestep=2**11,batch_size=1):\n",
    "    num_steps = int(num_seconds*sr/timestep)\n",
    "    \n",
    "    track_path = 'tracks/' + os.listdir('tracks')[np.random.randint(0,len(os.listdir('tracks')))]\n",
    "    real_track = load_song(track_path,sr=sr,timestep=timestep)\n",
    "    beginpts =  np.random.randint(1,real_track.shape[0]-num_steps,batch_size)\n",
    "    \n",
    "    initial_sound = tf.convert_to_tensor([real_track[beginpt-1] for beginpt in beginpts])\n",
    "    initial_probability = tf.ones([batch_size,timestep])/2\n",
    "    art_output, crit_output = train_step(music_sample = initial_sound, previous_artist_output = initial_sound, \n",
    "               previous_critic_chances = [initial_probability]*2,batch_size=batch_size)\n",
    "    \n",
    "    for i in range(num_steps):\n",
    "        curr_slice = tf.convert_to_tensor([real_track[beginpt+i] for beginpt in beginpts])\n",
    "        art_output, crit_output = train_step(music_sample = curr_slice,previous_artist_output=art_output,\n",
    "                                            previous_critic_chances = crit_output,batch_size=batch_size)\n",
    "    \n",
    "    \n"
   ]
  },
  {
   "cell_type": "code",
   "execution_count": 6,
   "id": "5b7fae96",
   "metadata": {},
   "outputs": [],
   "source": [
    "@tf.function\n",
    "def train_step( music_sample, previous_artist_output, previous_critic_chances,batch_size = 1):\n",
    "    #Me aseguro de que las entradas tengan 2 dimensiones\n",
    "    music_sample = tf.reshape( tf.convert_to_tensor(music_sample),[batch_size,-1])\n",
    "    previous_artist_output = tf.reshape( tf.convert_to_tensor(previous_artist_output) ,[batch_size,-1])\n",
    "    previous_critic_chances = [tf.reshape( tf.convert_to_tensor(chances) ,[batch_size,-1]) for chances in previous_critic_chances]\n",
    "    \n",
    "    with tf.GradientTape() as art_tape , tf.GradientTape() as crit_tape:\n",
    "        #Calculo las salidas del artista\n",
    "        \n",
    "        art_tape.watch(previous_artist_output)\n",
    "       \n",
    "        art_output = artist(tf.reshape(previous_artist_output,[batch_size,-1,1]), training = True)\n",
    "        art_output = tf.reshape(art_output,[batch_size,-1])\n",
    "        \n",
    "        \n",
    "        #Calculo las probabilidades del crítico\n",
    "        \n",
    "        crit_tape.watch(music_sample)\n",
    "        crit_tape.watch(previous_critic_chances)\n",
    "        crit_tape.watch(art_output)\n",
    "        \n",
    "        real_output = critic([music_sample,previous_critic_chances[0]],training=True)\n",
    "        fake_output = critic([art_output,previous_critic_chances[1]],training=True)\n",
    "        \n",
    "        #Calculo las losses\n",
    "        art_loss = artist_loss(fake_output)\n",
    "        crit_loss = critic_loss(real_output,fake_output) \n",
    "        \n",
    "\n",
    "            \n",
    "    gradients_of_artist = art_tape.gradient(art_loss, artist.trainable_variables)\n",
    "    gradients_of_critic = crit_tape.gradient(crit_loss, critic.trainable_variables)\n",
    "\n",
    "    artist_optimizer.apply_gradients(zip(gradients_of_artist, artist.trainable_variables))\n",
    "    critic_optimizer.apply_gradients(zip(gradients_of_critic, critic.trainable_variables))\n",
    "    \n",
    "    return art_output, [real_output,fake_output]"
   ]
  },
  {
   "cell_type": "code",
   "execution_count": 7,
   "id": "7d5a7b38",
   "metadata": {},
   "outputs": [],
   "source": [
    "NN_per_layer_critic = 2**9\n",
    "NN_per_layer_artist = [2**6,2**6,2**4,1]\n",
    "\n",
    "artist = Sequential()\n",
    "\n",
    "artist.add(Conv1D(NN_per_layer_artist[0],2**7,input_shape=(timestep,1),padding='same' ,activation='tanh'))\n",
    "artist.add(Conv1D(NN_per_layer_artist[1],2**7,padding='same' ,activation='tanh'))\n",
    "artist.add(Conv1D(NN_per_layer_artist[2],2**7,padding='same' ,activation='tanh'))\n",
    "artist.add(Conv1D(NN_per_layer_artist[3],2**7,padding='same' ,activation='tanh'))\n",
    "\n",
    "\n",
    "#Critico\n",
    "input_1 = Input(shape=(timestep,))\n",
    "dense_1 = Dense(NN_per_layer_critic,activation='tanh')(input_1)\n",
    "\n",
    "input_2 = Input(shape=(timestep,))\n",
    "dense_2 = Dense(NN_per_layer_critic,activation='tanh')(input_2)\n",
    "\n",
    "merged = concatenate([dense_1,dense_2])\n",
    "\n",
    "MD_1 = Dense(NN_per_layer_critic,activation='sigmoid')(merged)\n",
    "MD_2 = Dense(NN_per_layer_critic,activation='sigmoid')(MD_1)\n",
    "MD_3 = Dense(timestep,activation='sigmoid')(MD_2)\n",
    "\n",
    "critic = tf.keras.models.Model(inputs=[input_1,input_2],outputs = MD_3)\n"
   ]
  },
  {
   "cell_type": "code",
   "execution_count": 8,
   "id": "32b66909",
   "metadata": {},
   "outputs": [
    {
     "name": "stdout",
     "output_type": "stream",
     "text": [
      "Model: \"functional_1\"\n",
      "__________________________________________________________________________________________________\n",
      "Layer (type)                    Output Shape         Param #     Connected to                     \n",
      "==================================================================================================\n",
      "input_1 (InputLayer)            [(None, 4096)]       0                                            \n",
      "__________________________________________________________________________________________________\n",
      "input_2 (InputLayer)            [(None, 4096)]       0                                            \n",
      "__________________________________________________________________________________________________\n",
      "dense (Dense)                   (None, 512)          2097664     input_1[0][0]                    \n",
      "__________________________________________________________________________________________________\n",
      "dense_1 (Dense)                 (None, 512)          2097664     input_2[0][0]                    \n",
      "__________________________________________________________________________________________________\n",
      "concatenate (Concatenate)       (None, 1024)         0           dense[0][0]                      \n",
      "                                                                 dense_1[0][0]                    \n",
      "__________________________________________________________________________________________________\n",
      "dense_2 (Dense)                 (None, 512)          524800      concatenate[0][0]                \n",
      "__________________________________________________________________________________________________\n",
      "dense_3 (Dense)                 (None, 512)          262656      dense_2[0][0]                    \n",
      "__________________________________________________________________________________________________\n",
      "dense_4 (Dense)                 (None, 4096)         2101248     dense_3[0][0]                    \n",
      "==================================================================================================\n",
      "Total params: 7,084,032\n",
      "Trainable params: 7,084,032\n",
      "Non-trainable params: 0\n",
      "__________________________________________________________________________________________________\n"
     ]
    }
   ],
   "source": [
    "critic.summary()"
   ]
  },
  {
   "cell_type": "code",
   "execution_count": 9,
   "id": "c5866d04",
   "metadata": {},
   "outputs": [],
   "source": [
    "def decide_track(track):\n",
    "    track = np.array(track).reshape(-1)\n",
    "    num_slices = track.shape[0]//timestep\n",
    "    track = track[:num_slices*timestep]\n",
    "    track = track.reshape((-1,timestep))\n",
    "    curr_chances = np.ones(timestep)/2\n",
    "    preds = []\n",
    "    for i in range(track.shape[0]):\n",
    "        chances = critic.predict([track[i].reshape(1,-1), curr_chances.reshape(1,-1)])\n",
    "        preds.append(chances)\n",
    "        curr_chances=chances\n",
    "    preds = np.array(preds).reshape(-1)\n",
    "    return np.mean(preds), preds\n",
    "\n",
    "def continue_sample(initial_sample,num_seconds):\n",
    "    num_steps = int(num_seconds*sr/timestep)\n",
    "    track = [initial_sample.reshape(-1)]\n",
    "    for i in range(1,num_steps):\n",
    "        track.append(artist.predict(track[-1].reshape(1,-1,1)).reshape(-1))\n",
    "    \n",
    "    return track\n"
   ]
  },
  {
   "cell_type": "code",
   "execution_count": null,
   "id": "8fc23098",
   "metadata": {
    "scrolled": true
   },
   "outputs": [
    {
     "name": "stderr",
     "output_type": "stream",
     "text": [
      "C:\\Users\\Felix\\anaconda3\\envs\\Spoti\\lib\\site-packages\\librosa\\core\\audio.py:162: UserWarning: PySoundFile failed. Trying audioread instead.\n",
      "  warnings.warn(\"PySoundFile failed. Trying audioread instead.\")\n"
     ]
    },
    {
     "name": "stdout",
     "output_type": "stream",
     "text": [
      "Iteration 0 - Time elapsed: 15.433238744735718\n",
      "Current Iteration: 0\n",
      "tracks/Through the Fire and Flames (Live at Loud Park Festival 2014).mp3\n"
     ]
    },
    {
     "name": "stderr",
     "output_type": "stream",
     "text": [
      "C:\\Users\\Felix\\anaconda3\\envs\\Spoti\\lib\\site-packages\\librosa\\core\\audio.py:162: UserWarning: PySoundFile failed. Trying audioread instead.\n",
      "  warnings.warn(\"PySoundFile failed. Trying audioread instead.\")\n"
     ]
    },
    {
     "name": "stdout",
     "output_type": "stream",
     "text": [
      "Real Track Mean: 0.50091803\n",
      "Fake Track Mean: 0.500922\n",
      "White Noise Mean: 0.50092316\n",
      "Mon Jan 31 23:40:18 2022\n",
      "Iteration 1 - Time elapsed: 5.431882858276367\n",
      "Iteration 2 - Time elapsed: 5.251394033432007\n",
      "Iteration 3 - Time elapsed: 5.269761562347412\n",
      "Iteration 4 - Time elapsed: 5.260185956954956\n",
      "Iteration 5 - Time elapsed: 5.275302410125732\n",
      "Iteration 6 - Time elapsed: 5.251262903213501\n",
      "Iteration 7 - Time elapsed: 5.288374185562134\n",
      "Iteration 8 - Time elapsed: 5.46442985534668\n",
      "Iteration 9 - Time elapsed: 5.332797288894653\n",
      "Iteration 10 - Time elapsed: 5.2919135093688965\n",
      "Iteration 11 - Time elapsed: 5.322920560836792\n",
      "Iteration 12 - Time elapsed: 5.388190984725952\n",
      "Iteration 13 - Time elapsed: 5.364548206329346\n",
      "Iteration 14 - Time elapsed: 5.306985139846802\n",
      "Iteration 15 - Time elapsed: 5.300653696060181\n",
      "Iteration 16 - Time elapsed: 5.352154970169067\n",
      "Iteration 17 - Time elapsed: 5.311307668685913\n",
      "Iteration 18 - Time elapsed: 5.380719184875488\n",
      "Iteration 19 - Time elapsed: 5.3107545375823975\n",
      "Iteration 20 - Time elapsed: 5.39922571182251\n",
      "Iteration 21 - Time elapsed: 5.320990800857544\n",
      "Iteration 22 - Time elapsed: 5.287137269973755\n",
      "Iteration 23 - Time elapsed: 5.336745023727417\n",
      "Iteration 24 - Time elapsed: 5.3497021198272705\n",
      "Iteration 25 - Time elapsed: 5.286851406097412\n",
      "Iteration 26 - Time elapsed: 5.28244423866272\n",
      "Iteration 27 - Time elapsed: 5.35188889503479\n",
      "Iteration 28 - Time elapsed: 5.290232181549072\n",
      "Iteration 29 - Time elapsed: 5.320668935775757\n",
      "Iteration 30 - Time elapsed: 5.3010032176971436\n",
      "Iteration 31 - Time elapsed: 5.3193113803863525\n",
      "Iteration 32 - Time elapsed: 5.404015302658081\n",
      "Iteration 33 - Time elapsed: 5.339287042617798\n",
      "Iteration 34 - Time elapsed: 5.378316164016724\n",
      "Iteration 35 - Time elapsed: 5.31579852104187\n",
      "Iteration 36 - Time elapsed: 5.321665287017822\n",
      "Iteration 37 - Time elapsed: 5.381619215011597\n",
      "Iteration 38 - Time elapsed: 5.3166821002960205\n",
      "Iteration 39 - Time elapsed: 5.372229337692261\n",
      "Iteration 40 - Time elapsed: 5.285352945327759\n",
      "Iteration 41 - Time elapsed: 5.386578559875488\n",
      "Iteration 42 - Time elapsed: 5.318224906921387\n",
      "Iteration 43 - Time elapsed: 5.308112382888794\n",
      "Iteration 44 - Time elapsed: 5.378713607788086\n",
      "Iteration 45 - Time elapsed: 5.360570192337036\n",
      "Iteration 46 - Time elapsed: 5.3165669441223145\n",
      "Iteration 47 - Time elapsed: 5.321579217910767\n",
      "Iteration 48 - Time elapsed: 5.400634765625\n",
      "Iteration 49 - Time elapsed: 5.343771696090698\n",
      "Iteration 50 - Time elapsed: 5.400052070617676\n",
      "Iteration 51 - Time elapsed: 5.327658176422119\n",
      "Iteration 52 - Time elapsed: 5.604708433151245\n",
      "Iteration 53 - Time elapsed: 5.589842796325684\n",
      "Iteration 54 - Time elapsed: 5.5482141971588135\n",
      "Iteration 55 - Time elapsed: 5.5612101554870605\n",
      "Iteration 56 - Time elapsed: 5.551447629928589\n",
      "Iteration 57 - Time elapsed: 5.549233436584473\n",
      "Iteration 58 - Time elapsed: 5.578185796737671\n",
      "Iteration 59 - Time elapsed: 5.547215223312378\n",
      "Iteration 60 - Time elapsed: 5.549214839935303\n",
      "Iteration 61 - Time elapsed: 5.555229663848877\n",
      "Iteration 62 - Time elapsed: 5.556193590164185\n",
      "Iteration 63 - Time elapsed: 5.557211637496948\n",
      "Iteration 64 - Time elapsed: 5.558211803436279\n",
      "Iteration 65 - Time elapsed: 5.55048131942749\n",
      "Iteration 66 - Time elapsed: 5.621190786361694\n",
      "Iteration 67 - Time elapsed: 5.637207269668579\n",
      "Iteration 68 - Time elapsed: 5.34727144241333\n",
      "Iteration 69 - Time elapsed: 5.330610990524292\n",
      "Iteration 70 - Time elapsed: 5.37207818031311\n",
      "Iteration 71 - Time elapsed: 5.319874048233032\n",
      "Iteration 72 - Time elapsed: 5.406035661697388\n",
      "Iteration 73 - Time elapsed: 5.325071811676025\n",
      "Iteration 74 - Time elapsed: 5.386811256408691\n",
      "Iteration 75 - Time elapsed: 5.330938100814819\n",
      "Iteration 76 - Time elapsed: 5.411223649978638\n",
      "Iteration 77 - Time elapsed: 5.35639762878418\n",
      "Iteration 78 - Time elapsed: 5.3576366901397705\n",
      "Iteration 79 - Time elapsed: 5.389772891998291\n",
      "Iteration 80 - Time elapsed: 5.568208694458008\n",
      "Iteration 81 - Time elapsed: 5.661211729049683\n",
      "Iteration 82 - Time elapsed: 5.7201151847839355\n",
      "Iteration 83 - Time elapsed: 5.558249473571777\n",
      "Iteration 84 - Time elapsed: 5.561641454696655\n",
      "Iteration 85 - Time elapsed: 5.53893780708313\n",
      "Iteration 86 - Time elapsed: 5.571248292922974\n",
      "Iteration 87 - Time elapsed: 5.587523460388184\n",
      "Iteration 88 - Time elapsed: 5.637817621231079\n",
      "Iteration 89 - Time elapsed: 5.596807241439819\n",
      "Iteration 90 - Time elapsed: 5.591200828552246\n",
      "Iteration 91 - Time elapsed: 5.557211637496948\n",
      "Iteration 92 - Time elapsed: 5.541085958480835\n",
      "Iteration 93 - Time elapsed: 5.573225259780884\n",
      "Iteration 94 - Time elapsed: 5.54036283493042\n",
      "Iteration 95 - Time elapsed: 5.557210683822632\n",
      "Iteration 96 - Time elapsed: 5.561209678649902\n",
      "Iteration 97 - Time elapsed: 5.557832956314087\n",
      "Iteration 98 - Time elapsed: 5.551212787628174\n",
      "Iteration 99 - Time elapsed: 5.548214435577393\n",
      "Iteration 100 - Time elapsed: 5.556885480880737\n",
      "Current Iteration: 100\n",
      "tracks/Till the Stars Cry Out.mp3\n",
      "Real Track Mean: 0.78224915\n",
      "Fake Track Mean: 0.071602345\n",
      "White Noise Mean: 0.8208761\n",
      "Mon Jan 31 23:49:33 2022\n",
      "Iteration 101 - Time elapsed: 5.606217622756958\n",
      "Iteration 102 - Time elapsed: 5.538666009902954\n",
      "Iteration 103 - Time elapsed: 5.551995038986206\n",
      "Iteration 104 - Time elapsed: 5.585810899734497\n",
      "Iteration 105 - Time elapsed: 5.566686630249023\n",
      "Iteration 106 - Time elapsed: 5.560128688812256\n",
      "Iteration 107 - Time elapsed: 5.570449113845825\n",
      "Iteration 108 - Time elapsed: 5.7631731033325195\n",
      "Iteration 109 - Time elapsed: 5.545597314834595\n",
      "Iteration 110 - Time elapsed: 5.536739110946655\n",
      "Iteration 111 - Time elapsed: 5.55121922492981\n",
      "Iteration 112 - Time elapsed: 5.533225059509277\n",
      "Iteration 113 - Time elapsed: 5.545222043991089\n",
      "Iteration 114 - Time elapsed: 5.523245811462402\n",
      "Iteration 115 - Time elapsed: 5.799436330795288\n",
      "Iteration 116 - Time elapsed: 5.542222261428833\n",
      "Iteration 117 - Time elapsed: 5.535389423370361\n",
      "Iteration 118 - Time elapsed: 5.530243396759033\n",
      "Iteration 119 - Time elapsed: 5.5351738929748535\n",
      "Iteration 120 - Time elapsed: 5.532226085662842\n",
      "Iteration 121 - Time elapsed: 5.538261651992798\n",
      "Iteration 122 - Time elapsed: 5.804115295410156\n",
      "Iteration 123 - Time elapsed: 5.538223743438721\n",
      "Iteration 124 - Time elapsed: 5.665831565856934\n",
      "Iteration 125 - Time elapsed: 5.571213483810425\n",
      "Iteration 126 - Time elapsed: 5.518352746963501\n",
      "Iteration 127 - Time elapsed: 5.557217597961426\n",
      "Iteration 128 - Time elapsed: 5.5682244300842285\n",
      "Iteration 129 - Time elapsed: 5.540231227874756\n",
      "Iteration 130 - Time elapsed: 5.548205852508545\n",
      "Iteration 131 - Time elapsed: 5.550219774246216\n",
      "Iteration 132 - Time elapsed: 5.542243242263794\n",
      "Iteration 133 - Time elapsed: 5.541682958602905\n",
      "Iteration 134 - Time elapsed: 5.5472400188446045\n",
      "Iteration 135 - Time elapsed: 5.529345989227295\n",
      "Iteration 136 - Time elapsed: 5.53152871131897\n",
      "Iteration 137 - Time elapsed: 5.520508050918579\n",
      "Iteration 138 - Time elapsed: 5.617666244506836\n",
      "Iteration 139 - Time elapsed: 5.536223411560059\n",
      "Iteration 140 - Time elapsed: 5.547267913818359\n",
      "Iteration 141 - Time elapsed: 5.605166435241699\n",
      "Iteration 142 - Time elapsed: 5.607511281967163\n",
      "Iteration 143 - Time elapsed: 5.527543544769287\n",
      "Iteration 144 - Time elapsed: 5.524637460708618\n",
      "Iteration 145 - Time elapsed: 5.5372233390808105\n",
      "Iteration 146 - Time elapsed: 5.52522873878479\n",
      "Iteration 147 - Time elapsed: 5.556989908218384\n",
      "Iteration 148 - Time elapsed: 5.540222406387329\n",
      "Iteration 149 - Time elapsed: 5.53522515296936\n",
      "Iteration 150 - Time elapsed: 5.521246433258057\n",
      "Iteration 151 - Time elapsed: 5.561197757720947\n",
      "Iteration 152 - Time elapsed: 5.521247625350952\n",
      "Iteration 153 - Time elapsed: 5.528209686279297\n",
      "Iteration 154 - Time elapsed: 5.530225992202759\n",
      "Iteration 155 - Time elapsed: 5.5352232456207275\n",
      "Iteration 156 - Time elapsed: 5.503051042556763\n",
      "Iteration 157 - Time elapsed: 5.540241003036499\n",
      "Iteration 158 - Time elapsed: 5.537205934524536\n",
      "Iteration 159 - Time elapsed: 5.530245065689087\n",
      "Iteration 160 - Time elapsed: 5.529748201370239\n",
      "Iteration 161 - Time elapsed: 5.52766489982605\n",
      "Iteration 162 - Time elapsed: 5.525228023529053\n",
      "Iteration 163 - Time elapsed: 5.52722692489624\n",
      "Iteration 164 - Time elapsed: 5.529244899749756\n",
      "Iteration 165 - Time elapsed: 5.530207872390747\n",
      "Iteration 166 - Time elapsed: 5.52434515953064\n",
      "Iteration 167 - Time elapsed: 5.536206007003784\n"
     ]
    }
   ],
   "source": [
    "for i in range(1001):\n",
    "    start_time = time.time()\n",
    "    song_iteration(timestep=timestep,num_seconds=1,batch_size =128)\n",
    "    print('Iteration '+ str(i) + ' - Time elapsed: ' + str(time.time()-start_time))\n",
    "    \n",
    "    if i%100 == 0:\n",
    "        \n",
    "        print('Current Iteration: ' + str(i))\n",
    "        \n",
    "        track_path = 'tracks/' + os.listdir('tracks')[np.random.randint(0,len(os.listdir('tracks')))]\n",
    "        print(track_path)\n",
    "        real_track = load_song(track_path,sr=sr,timestep=timestep)\n",
    "        fake_track = continue_sample(real_track[0],4)\n",
    "        white_noise = np.random.randn(128*timestep)\n",
    "        \n",
    "        real_mean, _ = decide_track(real_track[:128])\n",
    "        fake_mean, _ = decide_track(fake_track)\n",
    "        noise_mean, _ = decide_track(white_noise)\n",
    "        \n",
    "        artist.save_weights('artist')\n",
    "        critic.save_weights('critic')      \n",
    "        \n",
    "        \n",
    "        print('Real Track Mean: ' + str(real_mean))\n",
    "        print('Fake Track Mean: ' + str(fake_mean))\n",
    "        print('White Noise Mean: ' + str(noise_mean))\n",
    "        \n",
    "        soundfile.write('test-' + str(i) + '.wav',np.array(fake_track).reshape(-1),samplerate=2**14,format='WAV')\n",
    "\n",
    "        print(time.ctime())\n",
    "        time.sleep(1)\n",
    "        "
   ]
  },
  {
   "cell_type": "code",
   "execution_count": 17,
   "id": "15f7ea09",
   "metadata": {},
   "outputs": [],
   "source": [
    "track_path = 'tracks//' + os.listdir('tracks')[np.random.randint(0,len(os.listdir('tracks')))]\n",
    "real_track = load_song(track_path,sr=sr,timestep=timestep)"
   ]
  },
  {
   "cell_type": "code",
   "execution_count": 17,
   "id": "2156cd69",
   "metadata": {
    "scrolled": false
   },
   "outputs": [],
   "source": [
    "mean, preds = decide_track(real_track.reshape(-1))"
   ]
  },
  {
   "cell_type": "code",
   "execution_count": 18,
   "id": "3c9bb888",
   "metadata": {},
   "outputs": [
    {
     "name": "stdout",
     "output_type": "stream",
     "text": [
      "0.9358672\n"
     ]
    }
   ],
   "source": [
    "print(mean)"
   ]
  },
  {
   "cell_type": "code",
   "execution_count": null,
   "id": "acb940b2",
   "metadata": {},
   "outputs": [],
   "source": [
    "    artist.save_weights('artist')\n",
    "    critic.save_weights('critic')"
   ]
  },
  {
   "cell_type": "code",
   "execution_count": null,
   "id": "a77d7947",
   "metadata": {},
   "outputs": [],
   "source": [
    "noise = np.random.randn(20,timestep)\n",
    "noise_mean, noise_preds = decide_track(noise.reshape(-1))\n",
    "plt.plot(noise_preds)"
   ]
  },
  {
   "cell_type": "code",
   "execution_count": null,
   "id": "f75a7d8b",
   "metadata": {},
   "outputs": [],
   "source": [
    "real_track[0]"
   ]
  },
  {
   "cell_type": "code",
   "execution_count": 18,
   "id": "38181366",
   "metadata": {},
   "outputs": [],
   "source": [
    "newtrack = continue_sample(real_track[0],num_seconds = 10)"
   ]
  },
  {
   "cell_type": "code",
   "execution_count": 23,
   "id": "f158ef1b",
   "metadata": {},
   "outputs": [],
   "source": [
    "newtrack = np.array(newtrack).reshape(-1)"
   ]
  },
  {
   "cell_type": "code",
   "execution_count": 24,
   "id": "934b87a4",
   "metadata": {},
   "outputs": [
    {
     "data": {
      "text/plain": [
       "(array([], dtype=int64),)"
      ]
     },
     "execution_count": 24,
     "metadata": {},
     "output_type": "execute_result"
    }
   ],
   "source": [
    "np.where(np.isnan(newtrack))"
   ]
  },
  {
   "cell_type": "code",
   "execution_count": 25,
   "id": "75c9d004",
   "metadata": {},
   "outputs": [],
   "source": [
    "faketrack_mean, faketrack_preds = decide_track(np.array(newtrack).reshape(-1))"
   ]
  },
  {
   "cell_type": "code",
   "execution_count": 26,
   "id": "35d0d5f9",
   "metadata": {},
   "outputs": [
    {
     "data": {
      "text/plain": [
       "0.50239193"
      ]
     },
     "execution_count": 26,
     "metadata": {},
     "output_type": "execute_result"
    }
   ],
   "source": [
    "faketrack_mean"
   ]
  },
  {
   "cell_type": "code",
   "execution_count": null,
   "id": "b4624d10",
   "metadata": {},
   "outputs": [],
   "source": [
    "soundfile.write('test-denseNN.wav',np.array(newtrack).reshape(-1),samplerate=2**14,format='WAV')"
   ]
  },
  {
   "cell_type": "code",
   "execution_count": null,
   "id": "81df654e",
   "metadata": {},
   "outputs": [],
   "source": [
    "plt.plot(np.array(newtrack).reshape(-1))"
   ]
  },
  {
   "cell_type": "code",
   "execution_count": null,
   "id": "367ee8cf",
   "metadata": {},
   "outputs": [],
   "source": [
    "IAudio(np.array(newtrack[0]).reshape(-1),rate=sr)"
   ]
  },
  {
   "cell_type": "code",
   "execution_count": null,
   "id": "cd91f3f5",
   "metadata": {},
   "outputs": [],
   "source": []
  }
 ],
 "metadata": {
  "kernelspec": {
   "display_name": "Python 3 (ipykernel)",
   "language": "python",
   "name": "python3"
  },
  "language_info": {
   "codemirror_mode": {
    "name": "ipython",
    "version": 3
   },
   "file_extension": ".py",
   "mimetype": "text/x-python",
   "name": "python",
   "nbconvert_exporter": "python",
   "pygments_lexer": "ipython3",
   "version": "3.7.11"
  }
 },
 "nbformat": 4,
 "nbformat_minor": 5
}
