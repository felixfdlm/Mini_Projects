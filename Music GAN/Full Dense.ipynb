{
 "cells": [
  {
   "cell_type": "code",
   "execution_count": 1,
   "id": "51bcae7d",
   "metadata": {},
   "outputs": [],
   "source": [
    "import librosa\n",
    "import tensorflow as tf\n",
    "import os\n",
    "from keras import Sequential\n",
    "from keras.layers import Dense, LSTM, Input, Dropout, concatenate\n",
    "from keras import layers\n",
    "import keras\n",
    "import numpy as np\n",
    "import librosa\n",
    "import matplotlib.pyplot as plt\n",
    "import time\n",
    "import soundfile\n",
    "from IPython.display import Audio as IAudio\n",
    "\n",
    "timestep = 2**9\n",
    "sr = 2**14"
   ]
  },
  {
   "cell_type": "code",
   "execution_count": 2,
   "id": "5cffaf84",
   "metadata": {},
   "outputs": [],
   "source": [
    "def load_song(path,sr=2**14,timestep=timestep):\n",
    "    track,_ = librosa.load(path,sr=sr)\n",
    "    num_slices = track.shape[0]//timestep\n",
    "    track = track[:num_slices*timestep]\n",
    "    track = track.reshape((-1,timestep))\n",
    "    return track"
   ]
  },
  {
   "cell_type": "code",
   "execution_count": 3,
   "id": "efc8f558",
   "metadata": {},
   "outputs": [],
   "source": [
    "cross_entropy_artist = tf.keras.losses.BinaryCrossentropy(from_logits=True)\n",
    "cross_entropy_critic = tf.keras.losses.BinaryCrossentropy(from_logits=False)\n",
    "\n",
    "def critic_loss(real_output, fake_output):\n",
    "    real_loss = cross_entropy_critic(tf.ones_like(real_output), real_output)\n",
    "    fake_loss = cross_entropy_critic(tf.zeros_like(fake_output), fake_output)\n",
    "    total_loss = real_loss + fake_loss\n",
    "    return total_loss\n",
    "\n",
    "def artist_loss(fake_output):\n",
    "    return cross_entropy_artist(tf.ones_like(fake_output),fake_output)"
   ]
  },
  {
   "cell_type": "code",
   "execution_count": 4,
   "id": "c5ce7eaa",
   "metadata": {},
   "outputs": [],
   "source": [
    "artist_optimizer = tf.keras.optimizers.Adam(1e-4)\n",
    "critic_optimizer = tf.keras.optimizers.Adam(1e-4)"
   ]
  },
  {
   "cell_type": "code",
   "execution_count": 5,
   "id": "8642084f",
   "metadata": {},
   "outputs": [],
   "source": [
    "def song_iteration(num_seconds = 8,sr=2**14,timestep=2**11,batch_size=1):\n",
    "    num_steps = int(num_seconds*sr/timestep)\n",
    "    \n",
    "    track_path = 'tracks/' + os.listdir('tracks')[np.random.randint(0,len(os.listdir('tracks')))]\n",
    "    real_track = load_song(track_path,sr=sr,timestep=timestep)\n",
    "    beginpts =  np.random.randint(1,real_track.shape[0]-num_steps,batch_size)\n",
    "    \n",
    "    initial_sound = tf.convert_to_tensor([real_track[beginpt-1] for beginpt in beginpts])\n",
    "    initial_probability = tf.ones([batch_size,timestep])/2\n",
    "    art_output, crit_output = train_step(music_sample = initial_sound, previous_artist_output = initial_sound, \n",
    "               previous_critic_chances = [initial_probability]*2,batch_size=batch_size)\n",
    "    \n",
    "    for i in range(num_steps):\n",
    "        curr_slice = tf.convert_to_tensor([real_track[beginpt+i] for beginpt in beginpts])\n",
    "        art_output, crit_output = train_step(music_sample = curr_slice,previous_artist_output=art_output,\n",
    "                                            previous_critic_chances = crit_output,batch_size=batch_size)\n",
    "    \n",
    "    \n"
   ]
  },
  {
   "cell_type": "code",
   "execution_count": 6,
   "id": "50f1580b",
   "metadata": {},
   "outputs": [],
   "source": [
    "@tf.function\n",
    "def train_step( music_sample, previous_artist_output, previous_critic_chances,batch_size = 1):\n",
    "    #Me aseguro de que las entradas tengan 2 dimensiones\n",
    "    music_sample = tf.reshape( tf.convert_to_tensor(music_sample),[batch_size,-1])\n",
    "    previous_artist_output = tf.reshape( tf.convert_to_tensor(previous_artist_output) ,[batch_size,-1])\n",
    "    previous_critic_chances = [tf.reshape( tf.convert_to_tensor(chances) ,[batch_size,-1]) for chances in previous_critic_chances]\n",
    "    \n",
    "    with tf.GradientTape() as art_tape , tf.GradientTape() as crit_tape:\n",
    "        #Calculo las salidas del artista\n",
    "        art_tape.watch(previous_artist_output)\n",
    "        art_output = artist(previous_artist_output, training = True)\n",
    "        \n",
    "        \n",
    "        #Calculo las probabilidades del crítico\n",
    "        crit_tape.watch(music_sample)\n",
    "        crit_tape.watch(previous_critic_chances)\n",
    "        crit_tape.watch(art_output)\n",
    "        real_output = critic([music_sample,previous_critic_chances[0]],training=True)\n",
    "        fake_output = critic([art_output,previous_critic_chances[1]],training=True)\n",
    "        \n",
    "        #Calculo las losses\n",
    "        art_loss = artist_loss(fake_output)\n",
    "        crit_loss = critic_loss(real_output,fake_output) \n",
    "        \n",
    "\n",
    "            \n",
    "    gradients_of_artist = art_tape.gradient(art_loss, artist.trainable_variables)\n",
    "    gradients_of_critic = crit_tape.gradient(crit_loss, critic.trainable_variables)\n",
    "\n",
    "    artist_optimizer.apply_gradients(zip(gradients_of_artist, artist.trainable_variables))\n",
    "    critic_optimizer.apply_gradients(zip(gradients_of_critic, critic.trainable_variables))\n",
    "    \n",
    "    return art_output, [real_output,fake_output]"
   ]
  },
  {
   "cell_type": "code",
   "execution_count": 7,
   "id": "a0fbdab0",
   "metadata": {},
   "outputs": [],
   "source": [
    "NN_per_layer_critic = 2**9\n",
    "NN_per_layer_artist = 2**10\n",
    "\n",
    "artist = Sequential()\n",
    "\n",
    "artist.add(Input(shape=(timestep,)))\n",
    "artist.add(Dense(NN_per_layer_artist,activation='tanh'))\n",
    "artist.add(Dense(NN_per_layer_artist,activation='tanh'))\n",
    "artist.add(Dense(NN_per_layer_artist,activation='tanh'))\n",
    "artist.add(Dense(timestep,activation='tanh'))\n",
    "\n",
    "\n",
    "#Critico\n",
    "input_1 = Input(shape=(timestep,))\n",
    "dense_1 = Dense(NN_per_layer_critic,activation='tanh')(input_1)\n",
    "\n",
    "input_2 = Input(shape=(timestep,))\n",
    "dense_2 = Dense(NN_per_layer_critic,activation='tanh')(input_2)\n",
    "\n",
    "merged = concatenate([dense_1,dense_2])\n",
    "\n",
    "MD_1 = Dense(NN_per_layer_critic,activation='sigmoid')(merged)\n",
    "MD_2 = Dense(NN_per_layer_critic,activation='sigmoid')(MD_1)\n",
    "MD_3 = Dense(timestep,activation='sigmoid')(MD_2)\n",
    "\n",
    "critic = tf.keras.models.Model(inputs=[input_1,input_2],outputs = MD_3)\n"
   ]
  },
  {
   "cell_type": "code",
   "execution_count": 8,
   "id": "f698769a",
   "metadata": {},
   "outputs": [
    {
     "name": "stdout",
     "output_type": "stream",
     "text": [
      "Model: \"sequential\"\n",
      "_________________________________________________________________\n",
      "Layer (type)                 Output Shape              Param #   \n",
      "=================================================================\n",
      "dense (Dense)                (None, 1024)              525312    \n",
      "_________________________________________________________________\n",
      "dense_1 (Dense)              (None, 1024)              1049600   \n",
      "_________________________________________________________________\n",
      "dense_2 (Dense)              (None, 1024)              1049600   \n",
      "_________________________________________________________________\n",
      "dense_3 (Dense)              (None, 512)               524800    \n",
      "=================================================================\n",
      "Total params: 3,149,312\n",
      "Trainable params: 3,149,312\n",
      "Non-trainable params: 0\n",
      "_________________________________________________________________\n"
     ]
    }
   ],
   "source": [
    "artist.summary()"
   ]
  },
  {
   "cell_type": "code",
   "execution_count": 9,
   "id": "3124d532",
   "metadata": {},
   "outputs": [],
   "source": [
    "def decide_track(track):\n",
    "    track = np.array(track).reshape(-1)\n",
    "    num_slices = track.shape[0]//timestep\n",
    "    track = track[:num_slices*timestep]\n",
    "    track = track.reshape((-1,timestep))\n",
    "    curr_chances = np.ones(timestep)/2\n",
    "    preds = []\n",
    "    for i in range(track.shape[0]):\n",
    "        chances = critic.predict([track[i].reshape(1,-1), curr_chances.reshape(1,-1)])\n",
    "        preds.append(chances)\n",
    "        curr_chances=chances\n",
    "    preds = np.array(preds).reshape(-1)\n",
    "    return np.mean(preds), preds\n",
    "\n",
    "def continue_sample(initial_sample,num_seconds):\n",
    "    num_steps = int(num_seconds*sr/timestep)\n",
    "    track = [initial_sample.reshape(-1)]\n",
    "    for i in range(1,num_steps):\n",
    "        track.append(artist.predict(track[-1].reshape(1,-1)).reshape(-1))\n",
    "    \n",
    "    return track\n"
   ]
  },
  {
   "cell_type": "code",
   "execution_count": 10,
   "id": "77d20431",
   "metadata": {},
   "outputs": [
    {
     "name": "stderr",
     "output_type": "stream",
     "text": [
      "C:\\Users\\Felix\\anaconda3\\envs\\Spoti\\lib\\site-packages\\librosa\\core\\audio.py:162: UserWarning: PySoundFile failed. Trying audioread instead.\n",
      "  warnings.warn(\"PySoundFile failed. Trying audioread instead.\")\n"
     ]
    },
    {
     "name": "stdout",
     "output_type": "stream",
     "text": [
      "Current Iteration: 0\n",
      "tracks/Your Love Is Evil.mp3\n"
     ]
    },
    {
     "name": "stderr",
     "output_type": "stream",
     "text": [
      "C:\\Users\\Felix\\anaconda3\\envs\\Spoti\\lib\\site-packages\\librosa\\core\\audio.py:162: UserWarning: PySoundFile failed. Trying audioread instead.\n",
      "  warnings.warn(\"PySoundFile failed. Trying audioread instead.\")\n"
     ]
    },
    {
     "name": "stdout",
     "output_type": "stream",
     "text": [
      "Real Track Mean: 0.5004528\n",
      "Fake Track Mean: 0.50055563\n",
      "White Noise Mean: 0.50048923\n",
      "Mon Jan 31 17:37:14 2022\n",
      "Current Iteration: 50\n",
      "tracks/シック・フリック.mp3\n",
      "Real Track Mean: 0.83143294\n",
      "Fake Track Mean: 0.1925016\n",
      "White Noise Mean: 0.48166177\n",
      "Mon Jan 31 17:38:59 2022\n",
      "Current Iteration: 100\n",
      "tracks/俺は怪獣.mp3\n",
      "Real Track Mean: 0.96077865\n",
      "Fake Track Mean: 0.9080344\n",
      "White Noise Mean: 0.10613704\n",
      "Mon Jan 31 17:40:44 2022\n",
      "Current Iteration: 150\n",
      "tracks/Seasons (Live at Loud Park Festival 2014).mp3\n",
      "Real Track Mean: 0.9854392\n",
      "Fake Track Mean: 0.9349244\n",
      "White Noise Mean: 0.0806819\n",
      "Mon Jan 31 17:42:31 2022\n",
      "Current Iteration: 200\n",
      "tracks/Easton Hope.mp3\n",
      "Real Track Mean: 0.28785086\n",
      "Fake Track Mean: 0.23998183\n",
      "White Noise Mean: 0.23160785\n",
      "Mon Jan 31 17:44:17 2022\n",
      "Current Iteration: 250\n",
      "tracks/Scales of Justice - The Wicked Symphony.mp3\n",
      "Real Track Mean: 0.8937712\n",
      "Fake Track Mean: 0.17659992\n",
      "White Noise Mean: 0.057599258\n",
      "Mon Jan 31 17:46:02 2022\n",
      "Current Iteration: 300\n",
      "tracks/レクイエム・フォー・ア・ドリーム.mp3\n",
      "Real Track Mean: 0.9716276\n",
      "Fake Track Mean: 0.839004\n",
      "White Noise Mean: 0.09645625\n",
      "Mon Jan 31 17:47:50 2022\n",
      "Current Iteration: 350\n",
      "tracks/The Last Dragonborn.mp3\n",
      "Real Track Mean: 0.97515994\n",
      "Fake Track Mean: 0.09838871\n",
      "White Noise Mean: 0.027128931\n",
      "Mon Jan 31 17:49:41 2022\n",
      "Current Iteration: 400\n",
      "tracks/Spectres.mp3\n",
      "Real Track Mean: 0.9936137\n",
      "Fake Track Mean: 0.985957\n",
      "White Noise Mean: 0.05395162\n",
      "Mon Jan 31 17:51:27 2022\n",
      "Current Iteration: 450\n",
      "tracks/Up to No Good.mp3\n",
      "Real Track Mean: 0.99323297\n",
      "Fake Track Mean: 0.109910354\n",
      "White Noise Mean: 0.032130662\n",
      "Mon Jan 31 17:53:13 2022\n",
      "Current Iteration: 500\n",
      "tracks/ダウン・ウィズ・ザ・デヴィル.mp3\n",
      "Real Track Mean: 0.9786633\n",
      "Fake Track Mean: 0.04419715\n",
      "White Noise Mean: 0.0069936602\n",
      "Mon Jan 31 17:54:59 2022\n",
      "Current Iteration: 550\n",
      "tracks/Seduction of Decay.mp3\n",
      "Real Track Mean: 0.99822694\n",
      "Fake Track Mean: 0.04237637\n",
      "White Noise Mean: 0.0007909343\n",
      "Mon Jan 31 17:56:46 2022\n",
      "Current Iteration: 600\n",
      "tracks/Fallen World.mp3\n",
      "Real Track Mean: 0.9879577\n",
      "Fake Track Mean: 0.013264172\n",
      "White Noise Mean: 0.00067544373\n",
      "Mon Jan 31 17:58:32 2022\n",
      "Current Iteration: 650\n",
      "tracks/Schizo Doll.mp3\n",
      "Real Track Mean: 0.9983148\n",
      "Fake Track Mean: 0.9714666\n",
      "White Noise Mean: 0.008032594\n",
      "Mon Jan 31 18:00:17 2022\n",
      "Current Iteration: 700\n",
      "tracks/Angels Of Fire.mp3\n",
      "Real Track Mean: 0.9984306\n",
      "Fake Track Mean: 0.02071108\n",
      "White Noise Mean: 0.0013594977\n",
      "Mon Jan 31 18:02:04 2022\n",
      "Current Iteration: 750\n",
      "tracks/Avantasia.mp3\n",
      "Real Track Mean: 0.99864376\n",
      "Fake Track Mean: 0.016296396\n",
      "White Noise Mean: 0.00051563967\n",
      "Mon Jan 31 18:03:51 2022\n",
      "Current Iteration: 800\n",
      "tracks/Warriors of the Northern Seas.mp3\n",
      "Real Track Mean: 0.99954957\n",
      "Fake Track Mean: 0.009757818\n",
      "White Noise Mean: 0.00014547197\n",
      "Mon Jan 31 18:05:49 2022\n",
      "Current Iteration: 850\n",
      "tracks/Too Soon.mp3\n",
      "Real Track Mean: 0.9985922\n",
      "Fake Track Mean: 0.008115582\n",
      "White Noise Mean: 0.00014292609\n",
      "Mon Jan 31 18:07:52 2022\n",
      "Current Iteration: 900\n",
      "tracks/Vulture of Fire.mp3\n",
      "Real Track Mean: 0.9996088\n",
      "Fake Track Mean: 0.012875142\n",
      "White Noise Mean: 0.00021875904\n",
      "Mon Jan 31 18:09:53 2022\n",
      "Current Iteration: 950\n",
      "tracks/House of Mirrors.mp3\n",
      "Real Track Mean: 0.9998956\n",
      "Fake Track Mean: 0.009838052\n",
      "White Noise Mean: 5.363784e-05\n",
      "Mon Jan 31 18:11:48 2022\n",
      "Current Iteration: 1000\n",
      "tracks/The Final Sacrifice.mp3\n",
      "Real Track Mean: 0.99812186\n",
      "Fake Track Mean: 0.016071573\n",
      "White Noise Mean: 0.0005804036\n",
      "Mon Jan 31 18:13:34 2022\n"
     ]
    }
   ],
   "source": [
    "for i in range(1001):\n",
    "    song_iteration(timestep=timestep,num_seconds=1,batch_size = 128)\n",
    "    \n",
    "    if i%50 == 0:\n",
    "        \n",
    "        print('Current Iteration: ' + str(i))\n",
    "        \n",
    "        track_path = 'tracks/' + os.listdir('tracks')[np.random.randint(0,len(os.listdir('tracks')))]\n",
    "        print(track_path)\n",
    "        real_track = load_song(track_path,sr=sr,timestep=timestep)\n",
    "        fake_track = continue_sample(real_track[0],4)\n",
    "        white_noise = np.random.randn(128*timestep)\n",
    "        \n",
    "        real_mean, _ = decide_track(real_track[:128])\n",
    "        fake_mean, _ = decide_track(fake_track)\n",
    "        noise_mean, _ = decide_track(white_noise)\n",
    "        \n",
    "        artist.save_weights('artist')\n",
    "        critic.save_weights('critic')      \n",
    "        \n",
    "        \n",
    "        print('Real Track Mean: ' + str(real_mean))\n",
    "        print('Fake Track Mean: ' + str(fake_mean))\n",
    "        print('White Noise Mean: ' + str(noise_mean))\n",
    "        \n",
    "        soundfile.write('test-' + str(i) + '.wav',np.array(fake_track).reshape(-1),samplerate=2**14,format='WAV')\n",
    "\n",
    "        print(time.ctime())\n",
    "        time.sleep(1)\n",
    "    \n",
    "        "
   ]
  },
  {
   "cell_type": "code",
   "execution_count": 114,
   "id": "12296702",
   "metadata": {},
   "outputs": [],
   "source": [
    "track_path = 'testtracks//' + os.listdir('testtracks')[np.random.randint(0,len(os.listdir('tracks')))]\n",
    "real_track = load_song(track_path,sr=sr,timestep=timestep)"
   ]
  },
  {
   "cell_type": "code",
   "execution_count": 115,
   "id": "75912b29",
   "metadata": {
    "scrolled": false
   },
   "outputs": [],
   "source": [
    "mean, preds = decide_track(real_track.reshape(-1))"
   ]
  },
  {
   "cell_type": "code",
   "execution_count": 117,
   "id": "d871afc1",
   "metadata": {},
   "outputs": [
    {
     "name": "stdout",
     "output_type": "stream",
     "text": [
      "0.99999994\n"
     ]
    }
   ],
   "source": [
    "print(mean)"
   ]
  },
  {
   "cell_type": "code",
   "execution_count": 122,
   "id": "bcf60e80",
   "metadata": {},
   "outputs": [],
   "source": [
    "    artist.save_weights('artist')\n",
    "    critic.save_weights('critic')"
   ]
  },
  {
   "cell_type": "code",
   "execution_count": 68,
   "id": "5088b80b",
   "metadata": {},
   "outputs": [
    {
     "name": "stdout",
     "output_type": "stream",
     "text": [
      "(20, 512)\n",
      "0.00015046375\n"
     ]
    },
    {
     "data": {
      "text/plain": [
       "[<matplotlib.lines.Line2D at 0x1bd36c3dd90>]"
      ]
     },
     "execution_count": 68,
     "metadata": {},
     "output_type": "execute_result"
    },
    {
     "data": {
      "image/png": "[encoded data removed]",
      "text/plain": [
       "<Figure size 432x288 with 1 Axes>"
      ]
     },
     "metadata": {
      "needs_background": "light"
     },
     "output_type": "display_data"
    }
   ],
   "source": [
    "noise = np.random.randn(20,timestep)\n",
    "noise_mean, noise_preds = decide_track(noise.reshape(-1))\n",
    "plt.plot(noise_preds)"
   ]
  },
  {
   "cell_type": "code",
   "execution_count": 94,
   "id": "f27b3bc2",
   "metadata": {},
   "outputs": [
    {
     "data": {
      "text/plain": [
       "array([-9.89606604e-03, -3.48844454e-02, -1.54255986e-01, -1.45040184e-01,\n",
       "       -9.75666344e-02, -8.83318707e-02,  2.67899176e-03,  3.95892635e-02,\n",
       "       -1.03267897e-02, -6.27748966e-02, -2.56855059e-02, -4.55624945e-02,\n",
       "       -8.92377123e-02, -2.56260354e-02, -3.03921867e-02,  7.10760653e-02,\n",
       "        1.17263973e-01, -2.39401534e-02,  1.93172935e-02,  4.77312924e-03,\n",
       "       -4.91303094e-02,  5.38699776e-02,  1.76681802e-02, -1.26921143e-02,\n",
       "        4.12927419e-02, -3.61900702e-02, -2.76700016e-02, -4.99194749e-02,\n",
       "       -2.01192021e-01, -1.53740600e-01, -5.94829395e-02, -8.88409391e-02,\n",
       "       -1.56757727e-01, -8.30123425e-02,  2.74484679e-02, -3.55383679e-02,\n",
       "       -2.28797328e-02,  4.11205031e-02,  2.15657484e-02,  9.56894234e-02,\n",
       "        2.62901839e-02, -4.95033599e-02, -1.10375602e-02, -4.17873450e-02,\n",
       "        3.02996533e-03,  7.08549619e-02,  9.46206376e-02, -3.50484252e-03,\n",
       "       -1.96338594e-02, -8.22838843e-02, -1.69058457e-01, -4.55520339e-02,\n",
       "        2.64105108e-03, -3.16461176e-02,  3.45938951e-02, -7.82056302e-02,\n",
       "       -1.24947116e-01, -9.21593085e-02, -2.29602858e-01, -1.02978513e-01,\n",
       "       -1.14853375e-01, -1.16943292e-01, -4.26751468e-03, -3.06644291e-03,\n",
       "       -1.12067997e-01, -1.80336922e-01, -2.05637291e-01, -2.05074728e-01,\n",
       "       -1.27290934e-01, -1.42108336e-01, -7.59888664e-02, -8.10361281e-02,\n",
       "       -4.34256680e-02, -1.63490549e-01, -1.90145105e-01, -2.23809585e-01,\n",
       "       -2.22462535e-01, -7.62327164e-02, -3.81249636e-02, -3.71797346e-02,\n",
       "       -1.80736974e-01, -1.30123526e-01, -3.43092903e-02,  1.51206683e-02,\n",
       "        2.71039419e-02,  1.08952180e-01,  3.01971529e-02,  2.92577222e-03,\n",
       "        4.52693901e-04, -9.49915797e-02, -6.56242296e-02, -4.44034338e-02,\n",
       "        1.84628386e-02, -7.37100421e-03, -8.88045505e-02, -1.75764710e-01,\n",
       "       -1.26095146e-01, -3.17847691e-02,  3.70671414e-02,  6.15549907e-02,\n",
       "        9.84391049e-02, -5.04223444e-02, -1.17479973e-01, -4.20325026e-02,\n",
       "       -3.66737209e-02,  1.06279910e-01,  8.20831880e-02,  8.34998041e-02,\n",
       "        1.46955669e-01,  3.58973145e-02,  7.98859224e-02,  1.34040236e-01,\n",
       "        3.61765623e-02,  5.34667224e-02,  1.15949966e-01,  7.31116384e-02,\n",
       "        1.90757997e-02,  5.75074218e-02,  1.31758600e-01,  1.53347611e-01,\n",
       "        2.04952247e-02, -1.08186603e-01, -7.03569278e-02,  9.78767872e-03,\n",
       "        6.29469799e-03, -3.38778342e-03, -1.68526340e-02, -2.57660504e-02,\n",
       "        3.81987877e-02,  7.29343742e-02, -2.61623645e-03,  4.01363289e-03,\n",
       "        1.54160127e-01,  9.92718488e-02,  3.88354100e-02,  4.39720266e-02,\n",
       "       -9.75497160e-03, -5.60234934e-02, -8.19969326e-02, -1.23435169e-01,\n",
       "       -2.19472423e-02, -8.28913413e-03, -2.29479924e-01, -1.66541219e-01,\n",
       "       -1.54134840e-01, -1.79267362e-01, -1.31666109e-01, -1.14192627e-01,\n",
       "       -1.51917398e-01, -1.72754049e-01, -2.03808203e-01, -2.68620938e-01,\n",
       "       -1.70601115e-01, -7.74275959e-02,  1.88421714e-03,  3.46758924e-02,\n",
       "        3.29604037e-02, -1.34351396e-03, -1.07983975e-02, -4.55512246e-03,\n",
       "       -1.16216419e-02,  3.93274575e-02,  6.46141963e-03,  7.76049942e-02,\n",
       "        6.28835708e-02, -4.17764708e-02,  6.97141662e-02, -6.76503628e-02,\n",
       "       -9.57387015e-02,  2.88233235e-02,  7.21255615e-02,  6.39133230e-02,\n",
       "       -3.70294079e-02,  2.11862810e-02,  1.25317708e-01,  2.10242763e-01,\n",
       "        2.00107932e-01,  1.77765831e-01,  2.43375361e-01,  2.70057172e-01,\n",
       "        2.08438024e-01,  2.57023007e-01,  2.35292077e-01,  1.24238588e-01,\n",
       "        1.85849965e-01,  5.86065538e-02,  3.32050361e-02,  7.08106086e-02,\n",
       "       -7.74784088e-02, -4.07902449e-02,  4.93033091e-03,  8.31008479e-02,\n",
       "        1.40698805e-01,  1.13397375e-01,  1.28086090e-01,  8.90212059e-02,\n",
       "        1.21834725e-01,  8.21975917e-02,  5.44775045e-03,  1.27619833e-01,\n",
       "        1.22835226e-01,  1.35619253e-01,  2.06946105e-01,  1.56726927e-01,\n",
       "        2.05150768e-01,  1.02094531e-01, -1.12083396e-02,  2.55590584e-02,\n",
       "       -5.15726255e-03,  4.62571867e-02,  2.90524364e-02, -9.54833534e-03,\n",
       "       -5.08187450e-02, -8.89140218e-02, -1.35468945e-01, -1.62610486e-01,\n",
       "        6.15543723e-02,  1.06029667e-01, -3.86620983e-02, -2.37663947e-02,\n",
       "       -1.49184577e-02,  3.37037779e-02,  8.21527019e-02, -1.41839497e-02,\n",
       "        4.41345200e-02,  7.62547404e-02, -1.04083801e-02,  3.53948101e-02,\n",
       "        2.82912012e-02,  3.71929817e-02,  6.35651127e-02,  7.09312456e-03,\n",
       "       -2.89588980e-03,  7.28945509e-02,  6.05254769e-02, -8.61569792e-02,\n",
       "       -5.71168512e-02,  8.01014379e-02,  5.01708202e-02,  6.32702559e-02,\n",
       "        8.17393810e-02,  2.08124658e-03,  1.10199712e-01,  5.44968508e-02,\n",
       "       -4.53057587e-02,  4.96109948e-03,  1.77295562e-02,  5.43707311e-02,\n",
       "        3.02881338e-02,  6.62830845e-02,  1.75316222e-02, -2.07105577e-02,\n",
       "        8.68072882e-02,  7.26732537e-02,  3.81772742e-02,  5.51453941e-02,\n",
       "        1.59484260e-02,  7.58785307e-02,  5.09411320e-02, -5.17194800e-04,\n",
       "        1.26758032e-03, -1.49336278e-01, -5.61532713e-02,  6.89466447e-02,\n",
       "        4.02266085e-02,  1.11740530e-01,  7.01122433e-02,  8.03480744e-02,\n",
       "        7.08088875e-02,  8.29933137e-02,  2.09857762e-01,  1.40387908e-01,\n",
       "        1.66871414e-01,  1.61500797e-01,  7.81542957e-02,  1.34762689e-01,\n",
       "        4.10130024e-02, -8.09660461e-03,  6.25847727e-02,  1.31423056e-01,\n",
       "        1.71498984e-01,  3.50265428e-02,  2.83823274e-02,  9.45089459e-02,\n",
       "        6.79607466e-02,  1.25967965e-01,  1.78060681e-01,  1.56415030e-01,\n",
       "        1.53463647e-01,  1.70395479e-01,  1.83376238e-01,  1.45907745e-01,\n",
       "        1.49603277e-01,  2.09790453e-01,  2.97500759e-01,  2.86200464e-01,\n",
       "        1.80955544e-01,  1.60567462e-01,  1.82955563e-01,  2.65854746e-01,\n",
       "        2.65148640e-01,  1.94258243e-01,  2.18873039e-01,  2.14006379e-01,\n",
       "        1.25835314e-01,  1.92013532e-01,  1.89775109e-01, -2.77847741e-02,\n",
       "       -2.95416638e-02,  1.03962697e-01, -2.36242940e-05, -9.63899419e-02,\n",
       "       -4.09695618e-02,  2.45006680e-02, -1.36667043e-02, -1.77749563e-02,\n",
       "        3.45492810e-02,  4.69528884e-02,  1.02274939e-01,  3.38994749e-02,\n",
       "       -3.35722677e-02, -3.39772142e-02,  5.57927787e-03, -2.23311428e-02,\n",
       "       -8.00256804e-02, -7.99067914e-02, -1.80500582e-01, -2.43744537e-01,\n",
       "       -2.14183673e-01, -1.41645581e-01, -1.98131502e-01, -2.16422766e-01,\n",
       "       -1.74121574e-01, -1.96552649e-01, -1.71668485e-01, -2.20744744e-01,\n",
       "       -1.31303355e-01, -1.58901006e-01, -1.27020061e-01, -1.54693872e-02,\n",
       "       -1.21566892e-01, -1.27464071e-01, -6.91154450e-02, -7.02033788e-02,\n",
       "       -9.07830149e-02, -9.74572152e-02, -1.00308895e-01, -1.02127336e-01,\n",
       "       -9.18274149e-02, -4.09041382e-02, -1.12426937e-01, -1.47954881e-01,\n",
       "       -2.40833297e-01, -2.45223686e-01, -1.91582710e-01, -2.19833583e-01,\n",
       "       -1.09846711e-01, -1.09180987e-01, -2.01660454e-01, -6.86095208e-02,\n",
       "       -9.17859003e-02, -1.76714987e-01, -4.40599546e-02, -2.19394155e-02,\n",
       "        6.28767759e-02,  1.34329339e-02, -6.45478144e-02, -8.31302181e-02,\n",
       "       -7.76213109e-02,  3.14419307e-02, -5.75751774e-02, -1.25956327e-01,\n",
       "       -2.03293368e-01, -2.70785242e-01, -2.15770915e-01, -1.50837034e-01,\n",
       "       -1.31057501e-01, -1.64260149e-01, -1.31788269e-01, -1.10645086e-01,\n",
       "       -1.49712890e-01, -2.54149616e-01, -1.40446529e-01, -1.59557536e-01,\n",
       "       -1.50225505e-01, -2.98417639e-02, -4.54043373e-02, -4.66827005e-02,\n",
       "       -7.13028684e-02, -6.48840442e-02, -9.91145298e-02, -3.67119983e-02,\n",
       "       -1.07795205e-02, -3.72361131e-02, -2.87505873e-02,  3.20926756e-02,\n",
       "       -4.23812680e-02, -8.54188204e-02, -1.10740617e-01, -1.66840509e-01,\n",
       "       -1.41249627e-01, -8.28676522e-02, -1.62923545e-01, -2.03617766e-01,\n",
       "       -5.56590892e-02,  6.15962334e-02,  3.20874862e-02, -4.93924282e-02,\n",
       "        3.08549032e-02,  1.05338223e-01,  2.02083439e-01,  1.01664573e-01,\n",
       "        1.40820652e-01,  1.72856957e-01,  1.19557254e-01,  1.39517590e-01,\n",
       "       -4.07148972e-02,  1.96565408e-02,  7.01347832e-03, -5.64971901e-02,\n",
       "       -1.81062631e-02, -1.83422510e-02,  8.66194293e-02,  8.58550817e-02,\n",
       "        4.24481928e-02,  2.91652810e-02,  5.16601056e-02,  3.05118673e-02,\n",
       "        6.24058396e-02,  7.61580765e-02,  2.16392413e-01,  2.15724513e-01,\n",
       "        9.41874012e-02,  1.20031118e-01,  4.64365520e-02,  8.31333250e-02,\n",
       "        1.00814231e-01,  1.26258194e-01,  1.13921523e-01,  1.03119805e-01,\n",
       "        1.48076639e-01,  1.62701100e-01,  2.78929211e-02, -2.04219986e-02,\n",
       "       -3.15110125e-02, -4.12505120e-02, -4.25859801e-02,  1.17140878e-02,\n",
       "        4.93113510e-02, -2.20062267e-02,  3.23548317e-02,  2.40537096e-02,\n",
       "        8.42766240e-02,  1.70835201e-02,  9.83663723e-02,  1.48826361e-01,\n",
       "        6.99549094e-02,  1.21196285e-01,  1.02036498e-01,  7.18134567e-02,\n",
       "        3.67135298e-03,  1.64827481e-02, -3.28095593e-02, -6.05860353e-02,\n",
       "       -9.28441733e-02, -1.31346300e-01, -5.55706397e-02, -2.05901358e-02,\n",
       "        1.92086436e-02, -7.46041629e-03,  3.74167375e-02,  6.41015396e-02,\n",
       "        5.89461401e-02,  1.19479820e-02, -5.21109812e-02,  7.26102218e-02,\n",
       "        1.34713620e-01,  1.57102615e-01,  1.82466567e-01,  1.23573728e-01,\n",
       "        6.82540089e-02,  7.05383420e-02,  9.77195054e-02,  6.69927076e-02,\n",
       "       -3.72772403e-02,  8.89277086e-02,  1.12305485e-01,  7.32852444e-02,\n",
       "        7.72285014e-02,  7.49884322e-02,  1.25592738e-01, -2.47046445e-02,\n",
       "       -9.85361985e-04,  1.00230575e-01,  6.53488040e-02,  8.17145333e-02,\n",
       "        1.25951441e-02, -3.66396196e-02,  6.21759631e-02,  5.12051303e-03,\n",
       "       -2.08438747e-02,  6.07324839e-02,  6.99037462e-02,  4.11343537e-02,\n",
       "        8.52368996e-02,  2.67935190e-02, -1.29489051e-02,  4.73358631e-02,\n",
       "        9.19973943e-03,  2.37975642e-02,  8.47223401e-03, -6.27904981e-02],\n",
       "      dtype=float32)"
      ]
     },
     "execution_count": 94,
     "metadata": {},
     "output_type": "execute_result"
    }
   ],
   "source": [
    "real_track[0]"
   ]
  },
  {
   "cell_type": "code",
   "execution_count": 96,
   "id": "b3cf767f",
   "metadata": {},
   "outputs": [],
   "source": [
    "newtrack = continue_sample(real_track[0],num_seconds = 10)"
   ]
  },
  {
   "cell_type": "code",
   "execution_count": 98,
   "id": "b0223d29",
   "metadata": {},
   "outputs": [
    {
     "data": {
      "text/plain": [
       "array([-9.89606604e-03, -3.48844454e-02, -1.54255986e-01, -1.45040184e-01,\n",
       "       -9.75666344e-02, -8.83318707e-02,  2.67899176e-03,  3.95892635e-02,\n",
       "       -1.03267897e-02, -6.27748966e-02, -2.56855059e-02, -4.55624945e-02,\n",
       "       -8.92377123e-02, -2.56260354e-02, -3.03921867e-02,  7.10760653e-02,\n",
       "        1.17263973e-01, -2.39401534e-02,  1.93172935e-02,  4.77312924e-03,\n",
       "       -4.91303094e-02,  5.38699776e-02,  1.76681802e-02, -1.26921143e-02,\n",
       "        4.12927419e-02, -3.61900702e-02, -2.76700016e-02, -4.99194749e-02,\n",
       "       -2.01192021e-01, -1.53740600e-01, -5.94829395e-02, -8.88409391e-02,\n",
       "       -1.56757727e-01, -8.30123425e-02,  2.74484679e-02, -3.55383679e-02,\n",
       "       -2.28797328e-02,  4.11205031e-02,  2.15657484e-02,  9.56894234e-02,\n",
       "        2.62901839e-02, -4.95033599e-02, -1.10375602e-02, -4.17873450e-02,\n",
       "        3.02996533e-03,  7.08549619e-02,  9.46206376e-02, -3.50484252e-03,\n",
       "       -1.96338594e-02, -8.22838843e-02, -1.69058457e-01, -4.55520339e-02,\n",
       "        2.64105108e-03, -3.16461176e-02,  3.45938951e-02, -7.82056302e-02,\n",
       "       -1.24947116e-01, -9.21593085e-02, -2.29602858e-01, -1.02978513e-01,\n",
       "       -1.14853375e-01, -1.16943292e-01, -4.26751468e-03, -3.06644291e-03,\n",
       "       -1.12067997e-01, -1.80336922e-01, -2.05637291e-01, -2.05074728e-01,\n",
       "       -1.27290934e-01, -1.42108336e-01, -7.59888664e-02, -8.10361281e-02,\n",
       "       -4.34256680e-02, -1.63490549e-01, -1.90145105e-01, -2.23809585e-01,\n",
       "       -2.22462535e-01, -7.62327164e-02, -3.81249636e-02, -3.71797346e-02,\n",
       "       -1.80736974e-01, -1.30123526e-01, -3.43092903e-02,  1.51206683e-02,\n",
       "        2.71039419e-02,  1.08952180e-01,  3.01971529e-02,  2.92577222e-03,\n",
       "        4.52693901e-04, -9.49915797e-02, -6.56242296e-02, -4.44034338e-02,\n",
       "        1.84628386e-02, -7.37100421e-03, -8.88045505e-02, -1.75764710e-01,\n",
       "       -1.26095146e-01, -3.17847691e-02,  3.70671414e-02,  6.15549907e-02,\n",
       "        9.84391049e-02, -5.04223444e-02, -1.17479973e-01, -4.20325026e-02,\n",
       "       -3.66737209e-02,  1.06279910e-01,  8.20831880e-02,  8.34998041e-02,\n",
       "        1.46955669e-01,  3.58973145e-02,  7.98859224e-02,  1.34040236e-01,\n",
       "        3.61765623e-02,  5.34667224e-02,  1.15949966e-01,  7.31116384e-02,\n",
       "        1.90757997e-02,  5.75074218e-02,  1.31758600e-01,  1.53347611e-01,\n",
       "        2.04952247e-02, -1.08186603e-01, -7.03569278e-02,  9.78767872e-03,\n",
       "        6.29469799e-03, -3.38778342e-03, -1.68526340e-02, -2.57660504e-02,\n",
       "        3.81987877e-02,  7.29343742e-02, -2.61623645e-03,  4.01363289e-03,\n",
       "        1.54160127e-01,  9.92718488e-02,  3.88354100e-02,  4.39720266e-02,\n",
       "       -9.75497160e-03, -5.60234934e-02, -8.19969326e-02, -1.23435169e-01,\n",
       "       -2.19472423e-02, -8.28913413e-03, -2.29479924e-01, -1.66541219e-01,\n",
       "       -1.54134840e-01, -1.79267362e-01, -1.31666109e-01, -1.14192627e-01,\n",
       "       -1.51917398e-01, -1.72754049e-01, -2.03808203e-01, -2.68620938e-01,\n",
       "       -1.70601115e-01, -7.74275959e-02,  1.88421714e-03,  3.46758924e-02,\n",
       "        3.29604037e-02, -1.34351396e-03, -1.07983975e-02, -4.55512246e-03,\n",
       "       -1.16216419e-02,  3.93274575e-02,  6.46141963e-03,  7.76049942e-02,\n",
       "        6.28835708e-02, -4.17764708e-02,  6.97141662e-02, -6.76503628e-02,\n",
       "       -9.57387015e-02,  2.88233235e-02,  7.21255615e-02,  6.39133230e-02,\n",
       "       -3.70294079e-02,  2.11862810e-02,  1.25317708e-01,  2.10242763e-01,\n",
       "        2.00107932e-01,  1.77765831e-01,  2.43375361e-01,  2.70057172e-01,\n",
       "        2.08438024e-01,  2.57023007e-01,  2.35292077e-01,  1.24238588e-01,\n",
       "        1.85849965e-01,  5.86065538e-02,  3.32050361e-02,  7.08106086e-02,\n",
       "       -7.74784088e-02, -4.07902449e-02,  4.93033091e-03,  8.31008479e-02,\n",
       "        1.40698805e-01,  1.13397375e-01,  1.28086090e-01,  8.90212059e-02,\n",
       "        1.21834725e-01,  8.21975917e-02,  5.44775045e-03,  1.27619833e-01,\n",
       "        1.22835226e-01,  1.35619253e-01,  2.06946105e-01,  1.56726927e-01,\n",
       "        2.05150768e-01,  1.02094531e-01, -1.12083396e-02,  2.55590584e-02,\n",
       "       -5.15726255e-03,  4.62571867e-02,  2.90524364e-02, -9.54833534e-03,\n",
       "       -5.08187450e-02, -8.89140218e-02, -1.35468945e-01, -1.62610486e-01,\n",
       "        6.15543723e-02,  1.06029667e-01, -3.86620983e-02, -2.37663947e-02,\n",
       "       -1.49184577e-02,  3.37037779e-02,  8.21527019e-02, -1.41839497e-02,\n",
       "        4.41345200e-02,  7.62547404e-02, -1.04083801e-02,  3.53948101e-02,\n",
       "        2.82912012e-02,  3.71929817e-02,  6.35651127e-02,  7.09312456e-03,\n",
       "       -2.89588980e-03,  7.28945509e-02,  6.05254769e-02, -8.61569792e-02,\n",
       "       -5.71168512e-02,  8.01014379e-02,  5.01708202e-02,  6.32702559e-02,\n",
       "        8.17393810e-02,  2.08124658e-03,  1.10199712e-01,  5.44968508e-02,\n",
       "       -4.53057587e-02,  4.96109948e-03,  1.77295562e-02,  5.43707311e-02,\n",
       "        3.02881338e-02,  6.62830845e-02,  1.75316222e-02, -2.07105577e-02,\n",
       "        8.68072882e-02,  7.26732537e-02,  3.81772742e-02,  5.51453941e-02,\n",
       "        1.59484260e-02,  7.58785307e-02,  5.09411320e-02, -5.17194800e-04,\n",
       "        1.26758032e-03, -1.49336278e-01, -5.61532713e-02,  6.89466447e-02,\n",
       "        4.02266085e-02,  1.11740530e-01,  7.01122433e-02,  8.03480744e-02,\n",
       "        7.08088875e-02,  8.29933137e-02,  2.09857762e-01,  1.40387908e-01,\n",
       "        1.66871414e-01,  1.61500797e-01,  7.81542957e-02,  1.34762689e-01,\n",
       "        4.10130024e-02, -8.09660461e-03,  6.25847727e-02,  1.31423056e-01,\n",
       "        1.71498984e-01,  3.50265428e-02,  2.83823274e-02,  9.45089459e-02,\n",
       "        6.79607466e-02,  1.25967965e-01,  1.78060681e-01,  1.56415030e-01,\n",
       "        1.53463647e-01,  1.70395479e-01,  1.83376238e-01,  1.45907745e-01,\n",
       "        1.49603277e-01,  2.09790453e-01,  2.97500759e-01,  2.86200464e-01,\n",
       "        1.80955544e-01,  1.60567462e-01,  1.82955563e-01,  2.65854746e-01,\n",
       "        2.65148640e-01,  1.94258243e-01,  2.18873039e-01,  2.14006379e-01,\n",
       "        1.25835314e-01,  1.92013532e-01,  1.89775109e-01, -2.77847741e-02,\n",
       "       -2.95416638e-02,  1.03962697e-01, -2.36242940e-05, -9.63899419e-02,\n",
       "       -4.09695618e-02,  2.45006680e-02, -1.36667043e-02, -1.77749563e-02,\n",
       "        3.45492810e-02,  4.69528884e-02,  1.02274939e-01,  3.38994749e-02,\n",
       "       -3.35722677e-02, -3.39772142e-02,  5.57927787e-03, -2.23311428e-02,\n",
       "       -8.00256804e-02, -7.99067914e-02, -1.80500582e-01, -2.43744537e-01,\n",
       "       -2.14183673e-01, -1.41645581e-01, -1.98131502e-01, -2.16422766e-01,\n",
       "       -1.74121574e-01, -1.96552649e-01, -1.71668485e-01, -2.20744744e-01,\n",
       "       -1.31303355e-01, -1.58901006e-01, -1.27020061e-01, -1.54693872e-02,\n",
       "       -1.21566892e-01, -1.27464071e-01, -6.91154450e-02, -7.02033788e-02,\n",
       "       -9.07830149e-02, -9.74572152e-02, -1.00308895e-01, -1.02127336e-01,\n",
       "       -9.18274149e-02, -4.09041382e-02, -1.12426937e-01, -1.47954881e-01,\n",
       "       -2.40833297e-01, -2.45223686e-01, -1.91582710e-01, -2.19833583e-01,\n",
       "       -1.09846711e-01, -1.09180987e-01, -2.01660454e-01, -6.86095208e-02,\n",
       "       -9.17859003e-02, -1.76714987e-01, -4.40599546e-02, -2.19394155e-02,\n",
       "        6.28767759e-02,  1.34329339e-02, -6.45478144e-02, -8.31302181e-02,\n",
       "       -7.76213109e-02,  3.14419307e-02, -5.75751774e-02, -1.25956327e-01,\n",
       "       -2.03293368e-01, -2.70785242e-01, -2.15770915e-01, -1.50837034e-01,\n",
       "       -1.31057501e-01, -1.64260149e-01, -1.31788269e-01, -1.10645086e-01,\n",
       "       -1.49712890e-01, -2.54149616e-01, -1.40446529e-01, -1.59557536e-01,\n",
       "       -1.50225505e-01, -2.98417639e-02, -4.54043373e-02, -4.66827005e-02,\n",
       "       -7.13028684e-02, -6.48840442e-02, -9.91145298e-02, -3.67119983e-02,\n",
       "       -1.07795205e-02, -3.72361131e-02, -2.87505873e-02,  3.20926756e-02,\n",
       "       -4.23812680e-02, -8.54188204e-02, -1.10740617e-01, -1.66840509e-01,\n",
       "       -1.41249627e-01, -8.28676522e-02, -1.62923545e-01, -2.03617766e-01,\n",
       "       -5.56590892e-02,  6.15962334e-02,  3.20874862e-02, -4.93924282e-02,\n",
       "        3.08549032e-02,  1.05338223e-01,  2.02083439e-01,  1.01664573e-01,\n",
       "        1.40820652e-01,  1.72856957e-01,  1.19557254e-01,  1.39517590e-01,\n",
       "       -4.07148972e-02,  1.96565408e-02,  7.01347832e-03, -5.64971901e-02,\n",
       "       -1.81062631e-02, -1.83422510e-02,  8.66194293e-02,  8.58550817e-02,\n",
       "        4.24481928e-02,  2.91652810e-02,  5.16601056e-02,  3.05118673e-02,\n",
       "        6.24058396e-02,  7.61580765e-02,  2.16392413e-01,  2.15724513e-01,\n",
       "        9.41874012e-02,  1.20031118e-01,  4.64365520e-02,  8.31333250e-02,\n",
       "        1.00814231e-01,  1.26258194e-01,  1.13921523e-01,  1.03119805e-01,\n",
       "        1.48076639e-01,  1.62701100e-01,  2.78929211e-02, -2.04219986e-02,\n",
       "       -3.15110125e-02, -4.12505120e-02, -4.25859801e-02,  1.17140878e-02,\n",
       "        4.93113510e-02, -2.20062267e-02,  3.23548317e-02,  2.40537096e-02,\n",
       "        8.42766240e-02,  1.70835201e-02,  9.83663723e-02,  1.48826361e-01,\n",
       "        6.99549094e-02,  1.21196285e-01,  1.02036498e-01,  7.18134567e-02,\n",
       "        3.67135298e-03,  1.64827481e-02, -3.28095593e-02, -6.05860353e-02,\n",
       "       -9.28441733e-02, -1.31346300e-01, -5.55706397e-02, -2.05901358e-02,\n",
       "        1.92086436e-02, -7.46041629e-03,  3.74167375e-02,  6.41015396e-02,\n",
       "        5.89461401e-02,  1.19479820e-02, -5.21109812e-02,  7.26102218e-02,\n",
       "        1.34713620e-01,  1.57102615e-01,  1.82466567e-01,  1.23573728e-01,\n",
       "        6.82540089e-02,  7.05383420e-02,  9.77195054e-02,  6.69927076e-02,\n",
       "       -3.72772403e-02,  8.89277086e-02,  1.12305485e-01,  7.32852444e-02,\n",
       "        7.72285014e-02,  7.49884322e-02,  1.25592738e-01, -2.47046445e-02,\n",
       "       -9.85361985e-04,  1.00230575e-01,  6.53488040e-02,  8.17145333e-02,\n",
       "        1.25951441e-02, -3.66396196e-02,  6.21759631e-02,  5.12051303e-03,\n",
       "       -2.08438747e-02,  6.07324839e-02,  6.99037462e-02,  4.11343537e-02,\n",
       "        8.52368996e-02,  2.67935190e-02, -1.29489051e-02,  4.73358631e-02,\n",
       "        9.19973943e-03,  2.37975642e-02,  8.47223401e-03, -6.27904981e-02],\n",
       "      dtype=float32)"
      ]
     },
     "execution_count": 98,
     "metadata": {},
     "output_type": "execute_result"
    }
   ],
   "source": [
    "np.array(newtrack[0]).reshape(-1)"
   ]
  },
  {
   "cell_type": "code",
   "execution_count": 87,
   "id": "da8c36bd",
   "metadata": {},
   "outputs": [
    {
     "name": "stdout",
     "output_type": "stream",
     "text": [
      "(320, 512)\n",
      "0.0032280206\n"
     ]
    }
   ],
   "source": [
    "faketrack_mean, faketrack_preds = decide_track(np.array(newtrack).reshape(-1))"
   ]
  },
  {
   "cell_type": "code",
   "execution_count": 88,
   "id": "4af15e36",
   "metadata": {},
   "outputs": [],
   "source": [
    "soundfile.write('test-denseNN.wav',np.array(newtrack).reshape(-1),samplerate=2**14,format='WAV')"
   ]
  },
  {
   "cell_type": "code",
   "execution_count": 89,
   "id": "87324baa",
   "metadata": {},
   "outputs": [
    {
     "data": {
      "text/plain": [
       "[<matplotlib.lines.Line2D at 0x1bd36706880>]"
      ]
     },
     "execution_count": 89,
     "metadata": {},
     "output_type": "execute_result"
    },
    {
     "data": {
      "image/png": "[encoded data removed]",
      "text/plain": [
       "<Figure size 432x288 with 1 Axes>"
      ]
     },
     "metadata": {
      "needs_background": "light"
     },
     "output_type": "display_data"
    }
   ],
   "source": [
    "plt.plot(np.array(newtrack).reshape(-1))"
   ]
  },
  {
   "cell_type": "code",
   "execution_count": 101,
   "id": "5cde1c0d",
   "metadata": {},
   "outputs": [
    {
     "data": {
      "text/html": [
       "\n",
       "                <audio  controls=\"controls\" >\n",
       "                    <source src=\"data:audio/wav;base64,UklGRiQEAABXQVZFZm10IBAAAAABAAEAAEAAAACAAAACABAAZGF0YQAEAAC/+/7wo72awQbWANonAQgRj/v+5PP0Zuyc2fr07fKUHnMytPVPCA0C3eotF5kHi/rEEW7wGfSG6nGp271p5sfZj7xJ3M8LtvAp9rERRwkrKU8LtOpB+wbuTQF8HrUofv6O95rcRLdn7CIBY/LiDlveP8pa2DidstOWzrDNKv6v/snParKHp8WnPcndwk/fI91S7aq5Mq62n0qgNN+Z7wHwPrIFyD7xgQapC+Au/QxCATEAItfF4+bs8QfV/MvZYrTAyVTy8g97GloqT+p1zevtOfC5LVAj7CM5P3EPXiKrOZAPABfiMXQfNQi9GLA4+UHRCHXRu+E2BLUCi/7A+Ov0bxBhH+D+ugFTQrUqtRDrEs775ue53OXKj/Zw/EWdWriwveCyW8ffzqS+rbVRqG6Mmrax3s8A6w4uDm3/W/sL/gD76xDHAmMhDhsH7v4d5eLQ1mYMBx9/GxLwHQnqNXRaGFZ7TLVoMHStWZRuO2VzNfVPNhlJDnceq9507h8CwCOIPMkwGzdMJmo0XSNYAug22TRZOglZbkNDWOwrLvv/Csj95hN/DOX7I+q/2bjFCrp7Gp4tXu/H9ZX5gA5YI+b5/RLOIIb7Og8sDAAQWRsNA8L+XB8KGu/abud2IpUVOBsqI+UAaS9yF4LsIgKgB2QXBw2EHIoHF/dZJUQfbBC5F9wGpSDqFcj/iwDAv9jnqR1OERMwKh6RInYetCNJWmY8y0d7RZ8h+jmlEYX87RqLOMlJEQ82DKkoPR0yNptMS0MGQk9J5U7GPl1AQlr/fyJ72k0VRbZOYXITcpNTKl4SXCM2nFKmUQz0S/O6LP7/iNZg7ooKH/pb+N0OMxQALJUOj/Fi8WYCZfaS3Z/dWLIil9qjEMPCquSiF7VwqyW2B6GDx6O7WslZ+bPLKclE4szh8tgS1tjUENR/2Gfuos9ZwGOYf5aTrWyhvtAH0T2pfOKD2PmzDO2Q9g0bxwU75Dzcm96HDTvn0MmKqICLK6Mbv57HVblNx2bQl7+okpTDW7tfvyrzeOzr61PhFuRc1TXwXfv776Lzzg3F7UDbW9A5uDvDWdzouWaoDuiAGs4NwOpGDVIt8Va9K5Y8XkpwMwY8fO50CAQDsuc2+Bz4RCXwJEMSjAw5FiAN2RrEIBld0FyFKKQz+hPEI18rUjYDMV0stT8ARgAMN/dy8kHuru0KBTcVifbrDVkKQiRZB1IqB0AYHiQ05ivlHpQBFwfj8e/lD9h+xxjoJfdDCMv8GRCUG1wZIwWV6T0f9TmXQ4FOKjVdHVkeCirSHPfvQiZRMIcfOiFDIAg2YPWU/x8rHRwoI2sFPfDAGjMCCfchGhMeshGsJIcLbvpdFPUDPQqlA/3k\" type=\"audio/wav\" />\n",
       "                    Your browser does not support the audio element.\n",
       "                </audio>\n",
       "              "
      ],
      "text/plain": [
       "<IPython.lib.display.Audio object>"
      ]
     },
     "execution_count": 101,
     "metadata": {},
     "output_type": "execute_result"
    }
   ],
   "source": [
    "IAudio(np.array(newtrack[0]).reshape(-1),rate=sr)"
   ]
  },
  {
   "cell_type": "code",
   "execution_count": null,
   "id": "4aaa2a07",
   "metadata": {},
   "outputs": [],
   "source": []
  }
 ],
 "metadata": {
  "kernelspec": {
   "display_name": "Python 3 (ipykernel)",
   "language": "python",
   "name": "python3"
  },
  "language_info": {
   "codemirror_mode": {
    "name": "ipython",
    "version": 3
   },
   "file_extension": ".py",
   "mimetype": "text/x-python",
   "name": "python",
   "nbconvert_exporter": "python",
   "pygments_lexer": "ipython3",
   "version": "3.7.11"
  }
 },
 "nbformat": 4,
 "nbformat_minor": 5
}
